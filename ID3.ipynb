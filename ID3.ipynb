{
 "cells": [
  {
   "cell_type": "code",
   "execution_count": 1,
   "metadata": {},
   "outputs": [],
   "source": [
    "import numpy as np\n",
    "import matplotlib.pyplot as plt\n",
    "import random\n",
    "import math\n",
    "from sklearn.model_selection import train_test_split"
   ]
  },
  {
   "cell_type": "code",
   "execution_count": 2,
   "metadata": {},
   "outputs": [],
   "source": [
    "#Data\n",
    "\n",
    "training_data = [\n",
    "    ['Green', 3],\n",
    "    ['Green', 3],\n",
    "    ['Red', 1],\n",
    "    ['Red', 1],\n",
    "    ['Yellow', 3],\n",
    "]\n",
    "labels = [\n",
    "    'Apple',\n",
    "    'Apple',\n",
    "    'Grape',\n",
    "    'Grape',\n",
    "    'Lemon',\n",
    "]\n",
    "header = [\"color\", \"diameter\"]"
   ]
  },
  {
   "cell_type": "code",
   "execution_count": 3,
   "metadata": {},
   "outputs": [],
   "source": [
    "class Tree:\n",
    "    def __init__(self,X,feature_names,labels):\n",
    "        \n",
    "        self.X = X\n",
    "        self.num_of_nodes = 0# len(self.nodes)\n",
    "        self.currentsplit = 0\n",
    "        self.feature_names = feature_names#coloum names\n",
    "        self.labels = labels#y\n",
    "        self.catagories = set(labels)\n",
    "        self.child = []\n",
    "        self.leaf = 0\n",
    "        "
   ]
  },
  {
   "cell_type": "code",
   "execution_count": 4,
   "metadata": {},
   "outputs": [],
   "source": [
    "class Node:\n",
    "    def __init__(self,labels,X_ids,feature_ids):\n",
    "        \n",
    "        self.split_result = 0\n",
    "        self.split = 0 #which column / which feature id\n",
    "        self.feature_names = feature_ids\n",
    "        self.labels = labels\n",
    "        self.child = []\n",
    "        self.ids = X_ids\n",
    "        self.leaf = 0 #true or false"
   ]
  },
  {
   "cell_type": "code",
   "execution_count": 5,
   "metadata": {},
   "outputs": [],
   "source": [
    "def get_features(X,labels,column,ids):\n",
    "    #Felosztjuk az adatokat a kiválasztott paratméter alapján pl.:szín\n",
    "    #Ezután vissza adjuk a felasztott adathalmazt az index-el együtt\n",
    "    \n",
    "    features = [ X[i][column] for i in ids ]#ids tell which row should we use in our calculations\n",
    "    features_categories = set(features)\n",
    "    \n",
    "    sub_labels = []\n",
    "    for i in features_categories:\n",
    "        \n",
    "        sub_label = [labels[x] for x in range(len(features)) if features[x]==i]#get the labels corresponing to the chosen features\n",
    "        sub_index = [x for x in range(len(features)) if features[x]==i]\n",
    "        sub_labels.append([sub_label,sub_index,i])\n",
    "        \n",
    "    return sub_labels"
   ]
  },
  {
   "cell_type": "code",
   "execution_count": 6,
   "metadata": {},
   "outputs": [],
   "source": [
    "def calculate_entropy(data):\n",
    "\n",
    "    categories = set(data)\n",
    "    entropy = 0;\n",
    "    \n",
    "    for i in categories:\n",
    "        p = data.count(i)/len(data)\n",
    "        entropy -=  p*math.log(p,2)\n",
    "\n",
    "    \n",
    "    return entropy"
   ]
  },
  {
   "cell_type": "code",
   "execution_count": 7,
   "metadata": {},
   "outputs": [],
   "source": [
    "def calculate_information_gain(X,labels,column,ids):\n",
    "    I = 0\n",
    "    \n",
    "    sub_labels = get_features(X,labels,column,ids) \n",
    "\n",
    "    for i in sub_labels:\n",
    "        entropy = calculate_entropy(i[0])\n",
    "        I += entropy * len(i[0])\n",
    "    \n",
    "    I = I/len(labels)\n",
    "    \n",
    "    return I"
   ]
  },
  {
   "cell_type": "code",
   "execution_count": 8,
   "metadata": {},
   "outputs": [],
   "source": [
    "def find_best_split(X,labels,feature_names,ids):\n",
    "    \n",
    "    largest_ig = 0\n",
    "    split = 0\n",
    "    I = 0 \n",
    "    \n",
    "    for i in feature_names:\n",
    "\n",
    "            I = calculate_information_gain(X,labels,i,ids)\n",
    "            if(I>largest_ig):\n",
    "                largest_ig = I\n",
    "                split = i\n",
    "\n",
    "    return split"
   ]
  },
  {
   "cell_type": "code",
   "execution_count": 9,
   "metadata": {},
   "outputs": [],
   "source": [
    "def build_tree(X,feature_names,labels,ids):\n",
    "    \n",
    "    #Az adatokat az indexe-ik alapán kezeljük\n",
    "    \n",
    "    split = 0 \n",
    "    sub_nodes = []\n",
    "    \n",
    "    \n",
    "    for i in range(len(feature_names)):\n",
    "        #Kiválasztjuk azt a kategóriát ami alapján felosztjuk\n",
    "        split = find_best_split(X,labels,feature_names,ids)\n",
    "\n",
    "        \n",
    "    #Miután felosztottuk az adataokat egy kategória alapján azt töröljük a listából\n",
    "    #hogy töbet ne tudjuk használni\n",
    "    feature_names.pop(split)\n",
    "    \n",
    "    #A kiválasztott kategória alapján felosztjuk az adatokat majd a node-okba helyezzük őket\n",
    "    node_labels = get_features(X,labels,split,ids)    \n",
    "        \n",
    "    for i in node_labels:\n",
    "        node = Node(i[0],i[1],feature_names)\n",
    "        node.split = split\n",
    "        node.split_result = i[2]\n",
    "        \n",
    "        #Ha elofgytak a kategóriák vagy homogén a node akkor elértünk egy leaf-hez.\n",
    "        if(feature_names == [] or calculate_entropy(node.labels) == 0):\n",
    "            node.leaf = 1\n",
    "\n",
    "        sub_nodes.append(node)\n",
    "        \n",
    "    if(feature_names == []):\n",
    "        return sub_nodes\n",
    "    else:\n",
    "        for node in sub_nodes:\n",
    "            if(node.leaf == 0):\n",
    "                #Amennyiben a node nem leaf foolytajuk a felbontást\n",
    "                node.child = build_tree(X,node.feature_names,node.labels,node.ids)\n",
    "\n",
    "\n",
    "    return sub_nodes\n",
    "    "
   ]
  },
  {
   "cell_type": "code",
   "execution_count": 10,
   "metadata": {},
   "outputs": [],
   "source": [
    "def fit(X,feature_names,labels):\n",
    "    \n",
    "    #Meghívjuk a döntési fát felépítő rekurzív függvényt\n",
    "    #Átadjuk neki az adatokat valamint az indexeiket\n",
    "    \n",
    "    ids = [x for x in range(len(X))]\n",
    "    feature_ids = [x for x in range(len(feature_names))]\n",
    "    tree = Tree(X,feature_names,labels)\n",
    "    tree.child = build_tree(X,feature_ids,labels,ids)\n",
    "    return tree"
   ]
  },
  {
   "cell_type": "code",
   "execution_count": 11,
   "metadata": {},
   "outputs": [],
   "source": [
    "#build_tree(training_data,header,labels)\n",
    "tree = fit(training_data,header,labels)"
   ]
  },
  {
   "cell_type": "code",
   "execution_count": 12,
   "metadata": {},
   "outputs": [],
   "source": [
    "def predict(node,features):\n",
    "    #A kategoriák alapján eljutunk a leaf-hez\n",
    "    for i in range(len(features)):\n",
    "        if(node.leaf == 1):\n",
    "            return set(node.labels)\n",
    "        else:\n",
    "            for j in node.child:\n",
    "                \n",
    "                    if(features[j.split] == j.split_result):\n",
    "                        if(j.leaf == 1):\n",
    "                            return set(j.labels)\n",
    "                        else:\n",
    "                            return set(predict(j,features))\n",
    "            \n",
    "          "
   ]
  },
  {
   "cell_type": "code",
   "execution_count": 13,
   "metadata": {},
   "outputs": [
    {
     "name": "stdout",
     "output_type": "stream",
     "text": [
      "{'Grape'}\n",
      "{'Lemon'}\n",
      "{'Apple'}\n"
     ]
    }
   ],
   "source": [
    "#Kiirjük hogy mik találhatók a leaf-ekben\n",
    "for i in tree.child:\n",
    "    if(i.leaf == 1):\n",
    "        print(set(i.labels))\n",
    "    else:\n",
    "        for j in i.child:\n",
    "            print(set(j.labels))\n",
    "            "
   ]
  },
  {
   "cell_type": "code",
   "execution_count": 14,
   "metadata": {},
   "outputs": [
    {
     "name": "stdout",
     "output_type": "stream",
     "text": [
      "{'Apple'}\n"
     ]
    }
   ],
   "source": [
    "print(predict(tree,['Green', 3]))"
   ]
  },
  {
   "cell_type": "code",
   "execution_count": null,
   "metadata": {},
   "outputs": [],
   "source": []
  }
 ],
 "metadata": {
  "kernelspec": {
   "display_name": "Python 3",
   "language": "python",
   "name": "python3"
  },
  "language_info": {
   "codemirror_mode": {
    "name": "ipython",
    "version": 3
   },
   "file_extension": ".py",
   "mimetype": "text/x-python",
   "name": "python",
   "nbconvert_exporter": "python",
   "pygments_lexer": "ipython3",
   "version": "3.7.6"
  }
 },
 "nbformat": 4,
 "nbformat_minor": 4
}
