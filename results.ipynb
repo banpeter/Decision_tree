{
 "cells": [
  {
   "cell_type": "code",
   "execution_count": 60,
   "metadata": {},
   "outputs": [],
   "source": [
    "import numpy as np\n",
    "import matplotlib.pyplot as plt\n",
    "import random\n",
    "import math"
   ]
  },
  {
   "cell_type": "code",
   "execution_count": 61,
   "metadata": {},
   "outputs": [],
   "source": [
    "dataset_names = [\"Blob\",\"iris\",\"wine\",\"house_price\"]\n",
    "#rt - regression tree\n",
    "#rtl - regression tree linear regresion\n",
    "#rtln - regression tree linear regresion non binray\n",
    "#rtn - regression tree non binray\n",
    "#rtni - regression tree linear regresion non binray incremental\n",
    "#The meaning of the numbers next to the non binary trees, is the amount of sub_nodes"
   ]
  },
  {
   "cell_type": "code",
   "execution_count": 79,
   "metadata": {},
   "outputs": [
    {
     "name": "stdout",
     "output_type": "stream",
     "text": [
      "5\n"
     ]
    }
   ],
   "source": [
    "#Execution time\n",
    "times = []\n",
    "\n",
    "with open(\"DataSets/times_rt.csv\",\"r\") as file:\n",
    "    t = []\n",
    "    for row in file:\n",
    "        #print(row)\n",
    "        t.append(float(row.strip(\"\\n\")))\n",
    "    times.append(t)\n",
    "\n",
    "   \n",
    "    \n",
    "with open(\"DataSets/times_rtl.csv\",\"r\") as file:\n",
    "    t = []\n",
    "    for row in file:\n",
    "        #print(row)\n",
    "        t.append(float(row.strip(\"\\n\")))\n",
    "    times.append(t)\n",
    " \n",
    "with open(\"DataSets/times_rtln.csv\",\"r\") as file:\n",
    "    t = []\n",
    "    for row in file:\n",
    "        #print(row)\n",
    "        row = row.strip('\\n').split(',')\n",
    "        #print(row)\n",
    "        t.append([float(x) for x in row ])\n",
    "    times.append(t)\n",
    "\n",
    "   \n",
    "    \n",
    "with open(\"DataSets/times_rtn.csv\",\"r\") as file:\n",
    "    t = []\n",
    "    for row in file:\n",
    "        #print(row)\n",
    "        row = row.strip('\\n').split(',')\n",
    "        #print(row)\n",
    "        t.append([float(x) for x in row ])\n",
    "    times.append(t)\n",
    "            \n",
    "    \n",
    "\n",
    "    \n",
    "with open(\"DataSets/times_rtni.csv\",\"r\") as file:\n",
    "    t = []\n",
    "    for row in file:\n",
    "        #print(row)\n",
    "        row = row.strip('\\n').split(',')\n",
    "        #print(row)\n",
    "        t.append([float(x) for x in row ])\n",
    "    times.append(t)\n",
    "    \n",
    "print(len(times))"
   ]
  },
  {
   "cell_type": "code",
   "execution_count": 78,
   "metadata": {},
   "outputs": [
    {
     "name": "stdout",
     "output_type": "stream",
     "text": [
      "5\n"
     ]
    }
   ],
   "source": [
    "#Sum of difference between the test and predicted data\n",
    "diff = []\n",
    "with open(\"DataSets/difference_rt.csv\",\"r\") as file:\n",
    "    d = []\n",
    "    for row in file:\n",
    "        #print(row)\n",
    "        d.append(float(row))\n",
    "    diff.append(d)    \n",
    "\n",
    "with open(\"DataSets/difference_rtl.csv\",\"r\") as file:\n",
    "    d = []\n",
    "    for row in file:\n",
    "        #print(row)\n",
    "        d.append(float(row))  \n",
    "    diff.append(d)\n",
    " \n",
    "\n",
    "\n",
    "with open(\"DataSets/difference_rtln.csv\",\"r\") as file:\n",
    "    d = []\n",
    "    for row in file:\n",
    "        #print(row)\n",
    "        row = row.strip('\\n').split(',')\n",
    "        #print(row)\n",
    "        d.append([float(x) for x in row ])  \n",
    "    diff.append(d)\n",
    "\n",
    "\n",
    "\n",
    "with open(\"DataSets/difference_rtn.csv\",\"r\") as file:\n",
    "    d = []\n",
    "    for row in file:\n",
    "        row = row.strip('\\n').split(',')\n",
    "        #print(row)\n",
    "        d.append([float(x) for x in row ])   \n",
    "    diff.append(d)\n",
    "\n",
    "with open(\"DataSets/difference_rtni.csv\",\"r\") as file:\n",
    "    d = []\n",
    "    for row in file:\n",
    "        row = row.strip('\\n').split(',')\n",
    "        #print(row)\n",
    "        d.append([float(x) for x in row ])   \n",
    "    diff.append(d)\n",
    "print(len(diff))"
   ]
  },
  {
   "cell_type": "code",
   "execution_count": 54,
   "metadata": {},
   "outputs": [
    {
     "name": "stdout",
     "output_type": "stream",
     "text": [
      "[29.972481557905276, 38.202262286760266, 12.310791874639559, 17.233142390353933, 21.29026613206188, 24.049292929568985, 25.494383811850952, 26.090730612350384, 29.135005180298315, 31.755369254352892, 85.2888201722748, 95.64554085706635, 101.16039316191485, 108.58127546231616]\n"
     ]
    },
    {
     "data": {
      "image/png": "[encoded data removed]",
      "text/plain": [
       "<Figure size 1080x504 with 1 Axes>"
      ]
     },
     "metadata": {
      "needs_background": "light"
     },
     "output_type": "display_data"
    }
   ],
   "source": [
    "plt.rcParams[\"figure.figsize\"] = (15,7)\n",
    "\n",
    "house_data = [diff[0][-1],diff[1][-1]]\n",
    "a = [x[-1] for x in diff[2:]]\n",
    "\n",
    "for i in diff[2:]:\n",
    "    for j in i[-1]:\n",
    "        house_data.append(j)\n",
    "\n",
    "\n",
    "print(house_data)\n",
    "plt.bar([\"rt\",\"rtl\",\"rtln2\",\"rtln3\",\"rtln4\",\"rtln5\",\"rtn2\",\"rtn3\",\"rtn4\",\"rtn4\",\"rtlni2\",\"rtlni3\",\"rtlni4\",\"rtlni5\"],house_data)\n",
    "\n",
    "#plt.legend([\"Testing data\" , \"Predicted value\"])\n",
    "\n",
    "plt.xlabel(\"Dataset\")\n",
    "plt.ylabel(\"Error\")\n",
    "plt.title(\"Performance\")\n",
    "\n",
    "plt.show()"
   ]
  },
  {
   "cell_type": "code",
   "execution_count": 82,
   "metadata": {},
   "outputs": [
    {
     "name": "stdout",
     "output_type": "stream",
     "text": [
      "[510.10443806648254, 770.8175797462463, 96.35117435455322, 67.83239817619324, 51.330572843551636, 46.85808229446411, 49.83047008514404, 32.4594464302063, 28.637555837631226, 25.623995065689087, 83.44252014160156, 83.15151190757751, 57.95203971862793, 53.79296350479126]\n"
     ]
    },
    {
     "data": {
      "image/png": "[encoded data removed]",
      "text/plain": [
       "<Figure size 1080x504 with 1 Axes>"
      ]
     },
     "metadata": {
      "needs_background": "light"
     },
     "output_type": "display_data"
    }
   ],
   "source": [
    "plt.rcParams[\"figure.figsize\"] = (15,7)\n",
    "\n",
    "house_data = [times[0][-1],times[1][-1]]\n",
    "\n",
    "\n",
    "for i in times[2:]:\n",
    "\n",
    "    for j in i[-1]:\n",
    "        house_data.append(j)\n",
    "\n",
    "\n",
    "print(house_data)\n",
    "plt.bar([\"rt\",\"rtl\",\"rtln2\",\"rtln3\",\"rtln4\",\"rtln5\",\"rtn2\",\"rtn3\",\"rtn4\",\"rtn4\",\"rtlni2\",\"rtlni3\",\"rtlni4\",\"rtlni5\"],house_data)\n",
    "\n",
    "\n",
    "\n",
    "plt.xlabel(\"Dataset\")\n",
    "plt.ylabel(\"Time(s)\")\n",
    "plt.title(\"Time\")\n",
    "\n",
    "plt.show()"
   ]
  }
 ],
 "metadata": {
  "kernelspec": {
   "display_name": "Python 3",
   "language": "python",
   "name": "python3"
  },
  "language_info": {
   "codemirror_mode": {
    "name": "ipython",
    "version": 3
   },
   "file_extension": ".py",
   "mimetype": "text/x-python",
   "name": "python",
   "nbconvert_exporter": "python",
   "pygments_lexer": "ipython3",
   "version": "3.7.6"
  }
 },
 "nbformat": 4,
 "nbformat_minor": 4
}
